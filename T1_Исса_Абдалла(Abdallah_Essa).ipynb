{
  "nbformat": 4,
  "nbformat_minor": 0,
  "metadata": {
    "colab": {
      "provenance": [],
      "authorship_tag": "ABX9TyNV9b1YqRUo1+WWj6NTBTK4",
      "include_colab_link": true
    },
    "kernelspec": {
      "name": "python3",
      "display_name": "Python 3"
    },
    "language_info": {
      "name": "python"
    }
  },
  "cells": [
    {
      "cell_type": "markdown",
      "metadata": {
        "id": "view-in-github",
        "colab_type": "text"
      },
      "source": [
        "<a href=\"https://colab.research.google.com/github/AbdAllAh950/Algorithms/blob/main/T1_%D0%98%D1%81%D1%81%D0%B0_%D0%90%D0%B1%D0%B4%D0%B0%D0%BB%D0%BB%D0%B0(Abdallah_Essa).ipynb\" target=\"_parent\"><img src=\"https://colab.research.google.com/assets/colab-badge.svg\" alt=\"Open In Colab\"/></a>"
      ]
    },
    {
      "cell_type": "markdown",
      "source": [
        "\n",
        "#**1. Title and Author Information**\n",
        "### Experimental Time Complexity Analysis\n",
        "\n",
        "**Goal:** Experimental study of the time complexity of different algorithms."
      ],
      "metadata": {
        "id": "aNvyII78Vpd1"
      }
    },
    {
      "cell_type": "markdown",
      "source": [
        "# **2. Problem Formulation**\n",
        "\n",
        "The goal of this task is to experimentally analyze the time complexity of various algorithms, including basic operations, polynomial evaluation methods, sorting algorithms, and matrix multiplication.\n"
      ],
      "metadata": {
        "id": "sE4Y1moRVfWO"
      }
    },
    {
      "cell_type": "markdown",
      "source": [
        "#**3. Brief Theoretical Part**\n",
        "\n",
        "Constant Function: Time complexity is O(1).\\\n",
        "Sum of Elements: Time complexity is O(n).\\\n",
        "Product of Elements: Time complexity is O(n).\\\n",
        "Polynomial Evaluation:\\\n",
        "Direct evaluation: O(n).\\\n",
        "Horner’s method: O(n).\\\n",
        "Sorting Algorithms:\\\n",
        "Bubble Sort: O(n^2).\\\n",
        "Quick Sort: O(n log n) average, O(n^2) worst case.\\\n",
        "Timsort: O(n log n).\\\n",
        "Matrix Multiplication: O(n^3)."
      ],
      "metadata": {
        "id": "erwe5suUWWQc"
      }
    },
    {
      "cell_type": "code",
      "source": [
        "import numpy as np\n",
        "import time\n",
        "import matplotlib.pyplot as plt\n",
        "\n",
        "# Generate random vector\n",
        "def generate_vector(n):\n",
        "    return np.random.rand(n)\n"
      ],
      "metadata": {
        "id": "ZTPXd8DnWtuE"
      },
      "execution_count": null,
      "outputs": []
    },
    {
      "cell_type": "code",
      "source": [
        "def constant_function(v):\n",
        "    return 1\n",
        "\n",
        "# Measuring time complexity\n",
        "def time_constant(n):\n",
        "    v = generate_vector(n)\n",
        "    start = time.time()\n",
        "    for _ in range(5):  # Running 5 times\n",
        "        constant_function(v)\n",
        "    return (time.time() - start) / 5\n"
      ],
      "metadata": {
        "id": "awz7jk-5W6xb"
      },
      "execution_count": null,
      "outputs": []
    },
    {
      "cell_type": "code",
      "source": [
        "def sum_function(v):\n",
        "    return np.sum(v)\n",
        "\n",
        "def time_sum(n):\n",
        "    v = generate_vector(n)\n",
        "    start = time.time()\n",
        "    for _ in range(5):\n",
        "        sum_function(v)\n",
        "    return (time.time() - start) / 5\n"
      ],
      "metadata": {
        "id": "ip_2VqNbXTHR"
      },
      "execution_count": null,
      "outputs": []
    },
    {
      "cell_type": "code",
      "source": [
        "def product_function(v):\n",
        "    return np.prod(v)\n",
        "\n",
        "def time_product(n):\n",
        "    v = generate_vector(n)\n",
        "    start = time.time()\n",
        "    for _ in range(5):\n",
        "        product_function(v)\n",
        "    return (time.time() - start) / 5\n"
      ],
      "metadata": {
        "id": "9ujS9GI0XZ0k"
      },
      "execution_count": null,
      "outputs": []
    },
    {
      "cell_type": "code",
      "source": [
        "# Direct calculation using numpy's polyval\n",
        "def polynomial_direct(v, x):\n",
        "    return np.polyval(list(reversed(v)), x)\n",
        "\n",
        "# Horner's method (unchanged, since it's efficient)\n",
        "def polynomial_horner(v, x):\n",
        "    result = v[-1]\n",
        "    for coeff in reversed(v[:-1]):\n",
        "        result = result * x + coeff\n",
        "    return result\n",
        "\n",
        "def time_polynomial(n):\n",
        "    v = generate_vector(n)\n",
        "    x = 1.5\n",
        "    # Timing direct evaluation\n",
        "    start_direct = time.time()\n",
        "    for _ in range(5):\n",
        "        polynomial_direct(v, x)\n",
        "    time_direct = (time.time() - start_direct) / 5\n",
        "\n",
        "    # Timing Horner's method\n",
        "    start_horner = time.time()\n",
        "    for _ in range(5):\n",
        "        polynomial_horner(v, x)\n",
        "    time_horner = (time.time() - start_horner) / 5\n",
        "\n",
        "    return time_direct, time_horner\n"
      ],
      "metadata": {
        "id": "bOzV1bmaXb8U"
      },
      "execution_count": null,
      "outputs": []
    },
    {
      "cell_type": "code",
      "source": [
        "def bubble_sort(v):\n",
        "    n = len(v)\n",
        "    for i in range(n):\n",
        "        for j in range(0, n-i-1):\n",
        "            if v[j] > v[j+1]:\n",
        "                v[j], v[j+1] = v[j+1], v[j]\n",
        "    return v\n",
        "\n",
        "def time_bubble_sort(n):\n",
        "    v = generate_vector(n)\n",
        "    start = time.time()\n",
        "    for _ in range(5):\n",
        "        bubble_sort(v.copy())\n",
        "    return (time.time() - start) / 5\n"
      ],
      "metadata": {
        "id": "jOc7FuwXXhi0"
      },
      "execution_count": null,
      "outputs": []
    },
    {
      "cell_type": "code",
      "source": [
        "def quick_sort(v):\n",
        "    if len(v) <= 1:\n",
        "        return v\n",
        "    pivot = v[len(v) // 2]\n",
        "    left = [x for x in v if x < pivot]\n",
        "    middle = [x for x in v if x == pivot]\n",
        "    right = [x for x in v if x > pivot]\n",
        "    return quick_sort(left) + middle + quick_sort(right)\n",
        "\n",
        "def time_quick_sort(n):\n",
        "    v = generate_vector(n)\n",
        "    start = time.time()\n",
        "    for _ in range(5):\n",
        "        quick_sort(v.copy())\n",
        "    return (time.time() - start) / 5\n"
      ],
      "metadata": {
        "id": "Mu0yOJgFXjl8"
      },
      "execution_count": null,
      "outputs": []
    },
    {
      "cell_type": "code",
      "source": [
        "def time_timsort(n):\n",
        "    v = generate_vector(n)\n",
        "    start = time.time()\n",
        "    for _ in range(5):\n",
        "        sorted(v)\n",
        "    return (time.time() - start) / 5\n"
      ],
      "metadata": {
        "id": "rJUP32N2XsOk"
      },
      "execution_count": null,
      "outputs": []
    },
    {
      "cell_type": "code",
      "source": [
        "def matrix_multiplication(n):\n",
        "    A = np.random.rand(n, n)\n",
        "    B = np.random.rand(n, n)\n",
        "    return np.dot(A, B)\n",
        "\n",
        "def time_matrix_multiplication(n):\n",
        "    start = time.time()\n",
        "    for _ in range(5):\n",
        "        matrix_multiplication(n)\n",
        "    return (time.time() - start) / 5\n"
      ],
      "metadata": {
        "id": "C6-yNHI6XvPs"
      },
      "execution_count": null,
      "outputs": []
    },
    {
      "cell_type": "code",
      "source": [
        "# Data for different time complexities\n",
        "ns = list(range(1, 2001, 100))\n",
        "times_constant = [time_constant(n) for n in ns]\n",
        "times_sum = [time_sum(n) for n in ns]\n",
        "times_product = [time_product(n) for n in ns]\n",
        "times_polynomial_direct, times_polynomial_horner = zip(*[time_polynomial(n) for n in ns])\n",
        "times_bubble_sort = [time_bubble_sort(n) for n in ns]\n",
        "times_quick_sort = [time_quick_sort(n) for n in ns]\n",
        "times_timsort = [time_timsort(n) for n in ns]\n",
        "times_matrix_mult = [time_matrix_multiplication(n) for n in ns]\n",
        "\n",
        "# Plotting\n",
        "plt.plot(ns, times_constant, label='Constant Function')\n",
        "plt.plot(ns, times_sum, label='Sum Function')\n",
        "plt.plot(ns, times_product, label='Product Function')\n",
        "plt.plot(ns, times_polynomial_direct, label='Polynomial Direct')\n",
        "plt.plot(ns, times_polynomial_horner, label='Polynomial Horner')\n",
        "plt.plot(ns, times_bubble_sort, label='Bubble Sort')\n",
        "plt.plot(ns, times_quick_sort, label='Quick Sort')\n",
        "plt.plot(ns, times_timsort, label='Timsort')\n",
        "plt.plot(ns, times_matrix_mult, label='Matrix Multiplication')\n",
        "plt.legend()\n",
        "plt.xlabel('n')\n",
        "plt.ylabel('Time (seconds)')\n",
        "plt.show()\n"
      ],
      "metadata": {
        "colab": {
          "base_uri": "https://localhost:8080/",
          "height": 518
        },
        "id": "FMvrNYGUXwjj",
        "outputId": "f4e03527-c7a1-46fd-a6b5-61b96363a9d8"
      },
      "execution_count": null,
      "outputs": [
        {
          "output_type": "stream",
          "name": "stderr",
          "text": [
            "/usr/local/lib/python3.10/dist-packages/numpy/lib/polynomial.py:780: RuntimeWarning: overflow encountered in multiply\n",
            "  y = y * x + pv\n",
            "<ipython-input-5-d5c7102ed703>:9: RuntimeWarning: overflow encountered in scalar multiply\n",
            "  result = result * x + coeff\n"
          ]
        },
        {
          "output_type": "display_data",
          "data": {
            "text/plain": [
              "<Figure size 640x480 with 1 Axes>"
            ],
            "image/png": "[encoded data removed]"
          },
          "metadata": {}
        }
      ]
    },
    {
      "cell_type": "markdown",
      "source": [
        "# **Discussion and Conclusions**\n",
        "- Constant Function (O(1))\n",
        "\n",
        "Theoretical: Constant execution time, unaffected by input size.\\\n",
        "Empirical: Time remains stable across all n, as expected for O(1) complexity.\n",
        "\n",
        "- Sum of Elements (O(n))\n",
        "\n",
        "Theoretical: Linear time, iterating through n elements.\\\n",
        "Empirical: Time increases proportionally with n, confirming O(n) behavior.\n",
        "\n",
        "- Product of Elements (O(n))\n",
        "\n",
        "Theoretical: Same as the sum function, O(n).\\\n",
        "Empirical: Linear increase in time with larger n, as expected.\\\n",
        "\n",
        "- Polynomial Evaluation\n",
        "\n",
        "Direct (O(n)): Linear time, evaluating each term.\\\n",
        "Horner’s Method (O(n)): Fewer operations but still O(n).\\\n",
        "Empirical: Both methods show linear growth, with Horner’s method slightly faster.\n",
        "\n",
        "- Bubble Sort (O(n²))\n",
        "\n",
        "Theoretical: Quadratic time due to nested loops.\\\n",
        "Empirical: Steep increase in time for larger n, as expected for O(n²).\n",
        "Quick Sort (O(n log n))\n",
        "\n",
        "Theoretical: Average-case O(n log n).\\\n",
        "Empirical: Significantly faster than bubble sort, with near logarithmic growth.\n",
        "\n",
        "- Timsort (O(n log n))\n",
        "\n",
        "Theoretical: Optimized hybrid sorting algorithm, O(n log n).\\\n",
        "Empirical: Similar to quicksort, performs efficiently for larger n.\n",
        "\n",
        "- Matrix Multiplication (O(n³))\n",
        "\n",
        "Theoretical: Cubic complexity due to multiple nested loops.\\\n",
        "Empirical: Time grows steeply for large n, consistent with O(n³).\n",
        "\n",
        "**Final Conclusions**\n",
        "\n",
        "The experimental results align with the theoretical time complexities.\n",
        "Advanced algorithms like quicksort and timsort outperform simpler ones like bubble sort for large inputs.\n",
        "\n",
        "Horner’s method is more efficient than direct polynomial evaluation.\n",
        "Matrix multiplication becomes very time-consuming as input size grows, emphasizing the importance of optimized algorithms for large data.\n",
        "\n"
      ],
      "metadata": {
        "id": "yoQ9Ufhjb9AL"
      }
    }
  ]
}