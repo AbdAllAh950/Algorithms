{
  "nbformat": 4,
  "nbformat_minor": 0,
  "metadata": {
    "colab": {
      "provenance": [],
      "authorship_tag": "ABX9TyOpOk19HeWxTrZRfoYrKPvw",
      "include_colab_link": true
    },
    "kernelspec": {
      "name": "python3",
      "display_name": "Python 3"
    },
    "language_info": {
      "name": "python"
    }
  },
  "cells": [
    {
      "cell_type": "markdown",
      "metadata": {
        "id": "view-in-github",
        "colab_type": "text"
      },
      "source": [
        "<a href=\"https://colab.research.google.com/github/AbdAllAh950/Algorithms/blob/main/T2_%D0%98%D1%81%D1%81%D0%B0_%D0%90%D0%B1%D0%B4%D0%B0%D0%BB%D0%BB%D0%B0(Abdallah_Essa).ipynb\" target=\"_parent\"><img src=\"https://colab.research.google.com/assets/colab-badge.svg\" alt=\"Open In Colab\"/></a>"
      ]
    },
    {
      "cell_type": "markdown",
      "source": [
        "# **1. Title and Author Information**\n",
        "**Goal:** The use of direct methods (one-dimensional and multidimensional) for solving unconstrained nonlinear optimization problems.\n"
      ],
      "metadata": {
        "id": "K2ia2nWiyE38"
      }
    },
    {
      "cell_type": "markdown",
      "source": [
        "# **2. Problem Formulation**\n",
        "In this task, we aim to minimize different functions using direct one-dimensional and multidimensional optimization methods such as exhaustive search, dichotomy, golden section, Gauss (coordinate descent), and Nelder-Mead methods.\n",
        "\n"
      ],
      "metadata": {
        "id": "7mysTykyyEIE"
      }
    },
    {
      "cell_type": "markdown",
      "source": [
        "# **3. Theoretical Part**\n",
        "\n",
        "### 3.1 One-Dimensional Methods\n",
        "Exhaustive Search: Divides the interval into subintervals and finds the minimum by evaluating the function at each point.\n",
        "Dichotomy Method: Divides the interval into two halves and selects the subinterval where the function is smaller.\n",
        "Golden Section Search: Uses the golden ratio to divide the interval and iteratively reduce the interval size.\n",
        "\n",
        "### 3.2 Multidimensional Methods\n",
        "Gauss (Coordinate Descent): Optimizes each coordinate one at a time.\n",
        "Nelder-Mead: A simplex-based optimization method that does not require gradients.\n"
      ],
      "metadata": {
        "id": "2rmwd15VyDw4"
      }
    },
    {
      "cell_type": "markdown",
      "source": [
        "# **4. Code Implementation and Results**\n",
        "### 4.1 One-Dimensional Optimization Methods\n",
        "We’ll implement the one-dimensional methods (exhaustive search, dichotomy, and golden section search) for three functions:"
      ],
      "metadata": {
        "id": "Yp8O_0DNyU7T"
      }
    },
    {
      "cell_type": "code",
      "execution_count": 5,
      "metadata": {
        "id": "wdl-ZA4CjsTj"
      },
      "outputs": [],
      "source": [
        "import numpy as np\n",
        "import matplotlib.pyplot as plt\n",
        "\n",
        "# Function 1: f(x) = x^2, x in [0, 1]\n",
        "def f1(x):\n",
        "    return x**2\n",
        "\n",
        "# Function 2: f(x) = |x - 0.2|, x in [0, 1]\n",
        "def f2(x):\n",
        "    return abs(x - 0.2)\n",
        "\n",
        "# Function 3: f(x) = x * sin(1/x), x in [0.01, 1]\n",
        "def f3(x):\n",
        "    return x * np.sin(1/x)\n"
      ]
    },
    {
      "cell_type": "markdown",
      "source": [
        "# 4.1.1 Exhaustive Search\n"
      ],
      "metadata": {
        "id": "WFNy7neQ0TFA"
      }
    },
    {
      "cell_type": "code",
      "source": [
        "def exhaustive_search(f, a, b, eps=0.001):\n",
        "    x_min = a\n",
        "    f_min = f(a)\n",
        "    iterations = 0\n",
        "    while a <= b:\n",
        "        f_val = f(a)\n",
        "        if f_val < f_min:\n",
        "            f_min = f_val\n",
        "            x_min = a\n",
        "        a += eps\n",
        "        iterations += 1\n",
        "    return x_min, f_min, iterations\n"
      ],
      "metadata": {
        "id": "oB3PiUi70T73"
      },
      "execution_count": 6,
      "outputs": []
    },
    {
      "cell_type": "markdown",
      "source": [
        "### 4.1.2 Dichotomy Method\n"
      ],
      "metadata": {
        "id": "7IKEe3J1y_ai"
      }
    },
    {
      "cell_type": "code",
      "source": [
        "def dichotomy_search(f, a, b, eps=0.001):\n",
        "    iterations = 0\n",
        "    while abs(b - a) > eps:\n",
        "        midpoint = (a + b) / 2\n",
        "        if f(midpoint - eps) < f(midpoint + eps):\n",
        "            b = midpoint\n",
        "        else:\n",
        "            a = midpoint\n",
        "        iterations += 1\n",
        "    return (a + b) / 2, f((a + b) / 2), iterations\n"
      ],
      "metadata": {
        "id": "oG_RlOBVy51x"
      },
      "execution_count": 7,
      "outputs": []
    },
    {
      "cell_type": "markdown",
      "source": [
        "### 4.1.3 Golden Section Search\n"
      ],
      "metadata": {
        "id": "_LHRYQtEzCRR"
      }
    },
    {
      "cell_type": "code",
      "source": [
        "def golden_section_search(f, a, b, eps=0.001):\n",
        "    golden_ratio = (1 + np.sqrt(5)) / 2\n",
        "    iterations = 0\n",
        "    while abs(b - a) > eps:\n",
        "        c = b - (b - a) / golden_ratio\n",
        "        d = a + (b - a) / golden_ratio\n",
        "        if f(c) < f(d):\n",
        "            b = d\n",
        "        else:\n",
        "            a = c\n",
        "        iterations += 1\n",
        "    return (a + b) / 2, f((a + b) / 2), iterations\n"
      ],
      "metadata": {
        "id": "75X2GRjHy9UZ"
      },
      "execution_count": 8,
      "outputs": []
    },
    {
      "cell_type": "markdown",
      "source": [
        "### 4.2 Results for One-Dimensional Methods\n",
        "We can run the above methods for the three functions:"
      ],
      "metadata": {
        "id": "FUrVpsn0zHbZ"
      }
    },
    {
      "cell_type": "code",
      "source": [
        "# Interval for each function\n",
        "a, b = 0, 1\n",
        "a_f3, b_f3 = 0.01, 1\n",
        "\n",
        "# Run optimization methods for each function\n",
        "result_exhaustive_f1 = exhaustive_search(f1, a, b)\n",
        "result_dichotomy_f1 = dichotomy_search(f1, a, b)\n",
        "result_golden_f1 = golden_section_search(f1, a, b)\n",
        "\n",
        "result_exhaustive_f2 = exhaustive_search(f2, a, b)\n",
        "result_dichotomy_f2 = dichotomy_search(f2, a, b)\n",
        "result_golden_f2 = golden_section_search(f2, a, b)\n",
        "\n",
        "result_exhaustive_f3 = exhaustive_search(f3, a_f3, b_f3)\n",
        "result_dichotomy_f3 = dichotomy_search(f3, a_f3, b_f3)\n",
        "result_golden_f3 = golden_section_search(f3, a_f3, b_f3)\n",
        "\n",
        "# Print results\n",
        "print(\"Function f1(x) = x^2\")\n",
        "print(f\"Exhaustive: {result_exhaustive_f1}\")\n",
        "print(f\"Dichotomy: {result_dichotomy_f1}\")\n",
        "print(f\"Golden Section: {result_golden_f1}\\n\")\n",
        "\n",
        "print(\"Function f2(x) = |x - 0.2|\")\n",
        "print(f\"Exhaustive: {result_exhaustive_f2}\")\n",
        "print(f\"Dichotomy: {result_dichotomy_f2}\")\n",
        "print(f\"Golden Section: {result_golden_f2}\\n\")\n",
        "\n",
        "print(\"Function f3(x) = x * sin(1/x)\")\n",
        "print(f\"Exhaustive: {result_exhaustive_f3}\")\n",
        "print(f\"Dichotomy: {result_dichotomy_f3}\")\n",
        "print(f\"Golden Section: {result_golden_f3}\\n\")\n"
      ],
      "metadata": {
        "colab": {
          "base_uri": "https://localhost:8080/"
        },
        "id": "SYen-ov9zSOh",
        "outputId": "b60f0d1e-7f80-469f-ee07-6a644e3dce5c"
      },
      "execution_count": 9,
      "outputs": [
        {
          "output_type": "stream",
          "name": "stdout",
          "text": [
            "Function f1(x) = x^2\n",
            "Exhaustive: (0, 0, 1000)\n",
            "Dichotomy: (0.00048828125, 2.384185791015625e-07, 10)\n",
            "Golden Section: (0.0003665687179287022, 1.3437262496389247e-07, 15)\n",
            "\n",
            "Function f2(x) = |x - 0.2|\n",
            "Exhaustive: (0.20000000000000015, 1.3877787807814457e-16, 1000)\n",
            "Dichotomy: (0.19970703125, 0.0002929687500000111, 10)\n",
            "Golden Section: (0.20007331374358567, 7.331374358565679e-05, 15)\n",
            "\n",
            "Function f3(x) = x * sin(1/x)\n",
            "Exhaustive: (0.22300000000000017, -0.2172246125808345, 990)\n",
            "Dichotomy: (0.22221191406250002, -0.2172286118926715, 10)\n",
            "Golden Section: (0.22271959361960325, -0.21723232817753246, 15)\n",
            "\n"
          ]
        }
      ]
    },
    {
      "cell_type": "markdown",
      "source": [
        "### 4.3 Data Approximation with Random Noise\n",
        "### 4.3.1 Generate Noisy Data\n",
        "\n"
      ],
      "metadata": {
        "id": "LDdeLVmozXMk"
      }
    },
    {
      "cell_type": "code",
      "source": [
        "# Random coefficients alpha and beta\n",
        "np.random.seed(42)\n",
        "alpha, beta = np.random.rand(2)\n",
        "\n",
        "# Generate noisy data\n",
        "x_data = np.linspace(0.01, 1, 101)\n",
        "y_data = alpha * x_data + beta + np.random.normal(0, 1, len(x_data))\n",
        "\n",
        "plt.scatter(x_data, y_data, label=\"Noisy data\")\n",
        "plt.title(\"Noisy Data\")\n",
        "plt.show()\n"
      ],
      "metadata": {
        "colab": {
          "base_uri": "https://localhost:8080/",
          "height": 452
        },
        "id": "qlsPevrCzh3x",
        "outputId": "243bffb3-7f1d-49a6-f272-ab51a8e745ef"
      },
      "execution_count": 10,
      "outputs": [
        {
          "output_type": "display_data",
          "data": {
            "text/plain": [
              "<Figure size 640x480 with 1 Axes>"
            ],
            "image/png": "[encoded data removed]"
          },
          "metadata": {}
        }
      ]
    },
    {
      "cell_type": "markdown",
      "source": [
        "### 4.3.2 Linear and Rational Approximation\n",
        "\n",
        "\n"
      ],
      "metadata": {
        "id": "yLAMxj0ZzkUZ"
      }
    },
    {
      "cell_type": "code",
      "source": [
        "# Linear approximant\n",
        "def linear_approx(x, a, b):\n",
        "    return a * x + b\n",
        "\n",
        "# Rational approximant\n",
        "def rational_approx(x, a, b):\n",
        "    return a / (x + b)\n",
        "\n",
        "# Define error function for least squares\n",
        "def error_function(approx, a, b, x_data, y_data):\n",
        "    return np.sum((approx(x_data, a, b) - y_data) ** 2)\n",
        "\n",
        "# Minimization using Nelder-Mead\n",
        "from scipy.optimize import minimize\n",
        "\n",
        "# Linear least squares fit\n",
        "res_linear = minimize(lambda p: error_function(linear_approx, p[0], p[1], x_data, y_data), [1, 1], method='Nelder-Mead')\n",
        "a_linear, b_linear = res_linear.x\n",
        "\n",
        "# Rational least squares fit\n",
        "res_rational = minimize(lambda p: error_function(rational_approx, p[0], p[1], x_data, y_data), [1, 1], method='Nelder-Mead')\n",
        "a_rational, b_rational = res_rational.x\n",
        "\n",
        "# Plot results\n",
        "plt.scatter(x_data, y_data, label=\"Noisy data\")\n",
        "plt.plot(x_data, linear_approx(x_data, a_linear, b_linear), label=\"Linear Approximation\", color=\"red\")\n",
        "plt.plot(x_data, rational_approx(x_data, a_rational, b_rational), label=\"Rational Approximation\", color=\"green\")\n",
        "plt.title(\"Approximations\")\n",
        "plt.legend()\n",
        "plt.show()\n"
      ],
      "metadata": {
        "colab": {
          "base_uri": "https://localhost:8080/",
          "height": 452
        },
        "id": "gyJp0s4lzpkK",
        "outputId": "d7a551cb-9c43-47ca-b166-abba39b11c81"
      },
      "execution_count": 11,
      "outputs": [
        {
          "output_type": "display_data",
          "data": {
            "text/plain": [
              "<Figure size 640x480 with 1 Axes>"
            ],
            "image/png": "[encoded data removed]"
          },
          "metadata": {}
        }
      ]
    },
    {
      "cell_type": "markdown",
      "source": [
        "# 5. Discussion and Conclusions\n",
        "\n",
        "One-Dimensional Methods: Golden section search tends to be more efficient than exhaustive and dichotomy methods due to fewer iterations and function evaluations.\\\n",
        "Data Approximation: Both linear and rational approximations fit the noisy data, but the rational model might provide a better fit for nonlinear data.\n"
      ],
      "metadata": {
        "id": "ot30k1XHzq7S"
      }
    }
  ]
}