{
  "nbformat": 4,
  "nbformat_minor": 0,
  "metadata": {
    "colab": {
      "provenance": [],
      "authorship_tag": "ABX9TyODyL4R/qGVF11JA6i0+P3U",
      "include_colab_link": true
    },
    "kernelspec": {
      "name": "python3",
      "display_name": "Python 3"
    },
    "language_info": {
      "name": "python"
    }
  },
  "cells": [
    {
      "cell_type": "markdown",
      "metadata": {
        "id": "view-in-github",
        "colab_type": "text"
      },
      "source": [
        "<a href=\"https://colab.research.google.com/github/AbdAllAh950/Algorithms/blob/main/T7_%D0%98%D1%81%D1%81%D0%B0_%D0%90%D0%B1%D0%B4%D0%B0%D0%BB%D0%BB%D0%B0(Abdallah_Essa).ipynb\" target=\"_parent\"><img src=\"https://colab.research.google.com/assets/colab-badge.svg\" alt=\"Open In Colab\"/></a>"
      ]
    },
    {
      "cell_type": "code",
      "source": [
        "# Install required libraries\n",
        "!pip install beautifulsoup4 bitarray"
      ],
      "metadata": {
        "colab": {
          "base_uri": "https://localhost:8080/"
        },
        "id": "ZcFs_h_Rizfq",
        "outputId": "7554114f-866c-4983-f7f8-0b6357a7c64e"
      },
      "execution_count": 20,
      "outputs": [
        {
          "output_type": "stream",
          "name": "stdout",
          "text": [
            "Requirement already satisfied: beautifulsoup4 in /usr/local/lib/python3.10/dist-packages (4.12.3)\n",
            "Requirement already satisfied: bitarray in /usr/local/lib/python3.10/dist-packages (3.0.0)\n",
            "Requirement already satisfied: soupsieve>1.2 in /usr/local/lib/python3.10/dist-packages (from beautifulsoup4) (2.6)\n"
          ]
        }
      ]
    },
    {
      "cell_type": "code",
      "source": [
        "# Import libraries\n",
        "import requests\n",
        "from bs4 import BeautifulSoup\n",
        "from collections import Counter\n",
        "import heapq\n",
        "from bitarray import bitarray"
      ],
      "metadata": {
        "id": "XY4LX5Y4i03g"
      },
      "execution_count": 21,
      "outputs": []
    },
    {
      "cell_type": "code",
      "source": [
        "# Step 1: Fetch and prepare text\n",
        "def fetch_text_from_url(url):\n",
        "    try:\n",
        "        response = requests.get(url)\n",
        "        response.raise_for_status()\n",
        "        soup = BeautifulSoup(response.text, \"html.parser\")\n",
        "        poem_div = soup.find(\"div\", class_=\"poem-text\")\n",
        "        if poem_div:\n",
        "            return poem_div.get_text(separator=\" \").strip()\n",
        "        else:\n",
        "            return \"By the shores of Gitche Gumee, By the shining Big-Sea-Water, \" \\\n",
        "                   \"Stood the wigwam of Nokomis, Daughter of the Moon, Nokomis.\"  # Fallback text\n",
        "    except Exception as e:\n",
        "        print(f\"Error fetching text: {e}\")\n",
        "        return \"By the shores of Gitche Gumee, By the shining Big-Sea-Water, \" \\\n",
        "               \"Stood the wigwam of Nokomis, Daughter of the Moon, Nokomis.\"  # Fallback text\n"
      ],
      "metadata": {
        "id": "8easXvVAi2M3"
      },
      "execution_count": 22,
      "outputs": []
    },
    {
      "cell_type": "code",
      "source": [
        "# URL of the poem\n",
        "url = \"https://www.hwlongfellow.org/poems_poem.php?pid=62\"\n",
        "text = fetch_text_from_url(url)"
      ],
      "metadata": {
        "id": "tyc86vuoi5TH"
      },
      "execution_count": 23,
      "outputs": []
    },
    {
      "cell_type": "code",
      "source": [
        "# Step 2: Huffman encoding\n",
        "def build_huffman_tree(freq_table):\n",
        "    heap = [[weight, [symbol, \"\"]] for symbol, weight in freq_table.items()]\n",
        "    heapq.heapify(heap)\n",
        "    while len(heap) > 1:\n",
        "        lo = heapq.heappop(heap)\n",
        "        hi = heapq.heappop(heap)\n",
        "        for pair in lo[1:]:\n",
        "            pair[1] = '0' + pair[1]\n",
        "        for pair in hi[1:]:\n",
        "            pair[1] = '1' + pair[1]\n",
        "        heapq.heappush(heap, [lo[0] + hi[0]] + lo[1:] + hi[1:])\n",
        "    return sorted(heapq.heappop(heap)[1:], key=lambda p: (len(p[-1]), p))\n",
        "\n",
        "def huffman_encode(text, huffman_code):\n",
        "    encoded = bitarray()\n",
        "    for char in text:\n",
        "        encoded.extend(huffman_code[char])  # Extend with each bitarray from huffman_code\n",
        "    return encoded\n",
        "\n",
        "freq_table = Counter(text)\n",
        "huffman_tree = build_huffman_tree(freq_table)\n",
        "huffman_code = {symbol: bitarray(code) for symbol, code in huffman_tree}  # Convert to bitarray\n",
        "encoded_text_huffman = huffman_encode(text, huffman_code)\n",
        "original_size = len(text) * 8  # ASCII (8 bits per character)\n",
        "compressed_size_huffman = len(encoded_text_huffman)\n",
        "compression_ratio_huffman = original_size / compressed_size_huffman"
      ],
      "metadata": {
        "id": "vbBOqobci6hX"
      },
      "execution_count": 24,
      "outputs": []
    },
    {
      "cell_type": "code",
      "source": [
        "# Step 3: LZW encoding\n",
        "def lzw_compress(text):\n",
        "    dictionary = {chr(i): i for i in range(256)}\n",
        "    next_code = 256\n",
        "    current = \"\"\n",
        "    compressed = []\n",
        "    for char in text:\n",
        "        combined = current + char\n",
        "        if combined in dictionary:\n",
        "            current = combined\n",
        "        else:\n",
        "            compressed.append(dictionary[current])\n",
        "            dictionary[combined] = next_code\n",
        "            next_code += 1\n",
        "            current = char\n",
        "    if current:\n",
        "        compressed.append(dictionary[current])\n",
        "    return compressed, dictionary\n",
        "\n",
        "compressed_data_lzw, lzw_dict = lzw_compress(text)\n",
        "compressed_size_lzw = len(compressed_data_lzw) * 16  # Assuming 16-bit codes\n",
        "compression_ratio_lzw = original_size / compressed_size_lzw"
      ],
      "metadata": {
        "id": "HvRL-Mk_i_oo"
      },
      "execution_count": 25,
      "outputs": []
    },
    {
      "cell_type": "code",
      "source": [
        "# Step 4: Display results\n",
        "print(f\"Original Size (bits): {original_size}\")\n",
        "print(f\"Huffman Compressed Size (bits): {compressed_size_huffman}\")\n",
        "print(f\"Huffman Compression Ratio: {compression_ratio_huffman:.2f}\")\n",
        "print(f\"LZW Compressed Size (bits): {compressed_size_lzw}\")\n",
        "print(f\"LZW Compression Ratio: {compression_ratio_lzw:.2f}\")\n",
        "print(f\"Huffman Code Table Size: {len(huffman_code)}\")\n",
        "print(f\"LZW Dictionary Size: {len(lzw_dict)}\")"
      ],
      "metadata": {
        "colab": {
          "base_uri": "https://localhost:8080/"
        },
        "id": "PcnVVAgujAof",
        "outputId": "fc7763bd-d44b-4366-dd72-def9e11a7691"
      },
      "execution_count": 26,
      "outputs": [
        {
          "output_type": "stream",
          "name": "stdout",
          "text": [
            "Original Size (bits): 960\n",
            "Huffman Compressed Size (bits): 524\n",
            "Huffman Compression Ratio: 1.83\n",
            "LZW Compressed Size (bits): 1472\n",
            "LZW Compression Ratio: 0.65\n",
            "Huffman Code Table Size: 29\n",
            "LZW Dictionary Size: 347\n"
          ]
        }
      ]
    }
  ]
}