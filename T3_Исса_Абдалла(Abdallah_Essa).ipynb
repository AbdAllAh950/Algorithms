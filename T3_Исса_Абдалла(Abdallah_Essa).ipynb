{
  "cells": [
    {
      "cell_type": "markdown",
      "metadata": {
        "id": "view-in-github",
        "colab_type": "text"
      },
      "source": [
        "<a href=\"https://colab.research.google.com/github/AbdAllAh950/Algorithms/blob/main/T3_%D0%98%D1%81%D1%81%D0%B0_%D0%90%D0%B1%D0%B4%D0%B0%D0%BB%D0%BB%D0%B0(Abdallah_Essa).ipynb\" target=\"_parent\"><img src=\"https://colab.research.google.com/assets/colab-badge.svg\" alt=\"Open In Colab\"/></a>"
      ]
    },
    {
      "cell_type": "code",
      "execution_count": 1,
      "metadata": {
        "id": "TtsjRCG5FqZP"
      },
      "outputs": [],
      "source": [
        "# Importing necessary libraries\n",
        "import numpy as np\n",
        "import matplotlib.pyplot as plt\n",
        "from scipy.optimize import minimize, least_squares"
      ]
    },
    {
      "cell_type": "code",
      "execution_count": 2,
      "metadata": {
        "id": "98e1086d"
      },
      "outputs": [],
      "source": [
        "# Generate random numbers alpha and beta\n",
        "np.random.seed(42)  # Fixing seed for reproducibility\n",
        "alpha = np.random.uniform(0, 1)\n",
        "beta = np.random.uniform(0, 1)"
      ]
    },
    {
      "cell_type": "code",
      "execution_count": 3,
      "metadata": {
        "id": "b27130c7"
      },
      "outputs": [],
      "source": [
        "# Generate x_data: x = k / 100 for k in [1..100]\n",
        "n = 100  # Total number of points\n",
        "x_data = np.linspace(1, n, n) / 100"
      ]
    },
    {
      "cell_type": "code",
      "execution_count": 4,
      "metadata": {
        "id": "b2d01533"
      },
      "outputs": [],
      "source": [
        "# Generate y_data based on a linear relationship with added noise\n",
        "y_data = alpha * x_data + beta + np.random.normal(0, 0.1, size=x_data.shape)  # Adding small noise for realism"
      ]
    },
    {
      "cell_type": "code",
      "execution_count": 5,
      "metadata": {
        "id": "78a75b58"
      },
      "outputs": [],
      "source": [
        "# Generate correct data: x = k / 100 for k in [1..100]\n",
        "n = 100  # Total number of points\n",
        "x_data = np.linspace(1, n, n) / 100"
      ]
    },
    {
      "cell_type": "code",
      "execution_count": 6,
      "metadata": {
        "id": "92bccf55"
      },
      "outputs": [],
      "source": [
        "# Generate y_data based on a linear relationship with added noise\n",
        "y_data = alpha * x_data + beta + np.random.normal(0, 0.1, size=x_data.shape)  # Adding small noise for realism"
      ]
    },
    {
      "cell_type": "code",
      "execution_count": 7,
      "metadata": {
        "id": "2euup8QvFrIL"
      },
      "outputs": [],
      "source": [
        "# Generate random numbers alpha and beta\n",
        "np.random.seed(42)  # Fixing seed for reproducibility\n",
        "alpha = np.random.uniform(0, 1)\n",
        "beta = np.random.uniform(0, 1)"
      ]
    },
    {
      "cell_type": "code",
      "execution_count": 8,
      "metadata": {
        "id": "oumSIGK2FrCy"
      },
      "outputs": [],
      "source": [
        "# Define the linear and rational approximants\n",
        "def linear_approximant(x, a, b):\n",
        "    return a * x + b"
      ]
    },
    {
      "cell_type": "code",
      "execution_count": 9,
      "metadata": {
        "id": "S5Lo5kXpFrAZ"
      },
      "outputs": [],
      "source": [
        "def rational_approximant(x, a, b):\n",
        "    return a / (x + b)"
      ]
    },
    {
      "cell_type": "code",
      "execution_count": 10,
      "metadata": {
        "id": "86DfTzpQFq9i"
      },
      "outputs": [],
      "source": [
        "# Define the objective function to minimize (least squares)\n",
        "def objective_function_linear(params, x, y):\n",
        "    a, b = params\n",
        "    return np.sum((linear_approximant(x, a, b) - y) ** 2)"
      ]
    },
    {
      "cell_type": "code",
      "execution_count": 11,
      "metadata": {
        "id": "haMtPS5AFq62"
      },
      "outputs": [],
      "source": [
        "def objective_function_rational(params, x, y):\n",
        "    a, b = params\n",
        "    return np.sum((rational_approximant(x, a, b) - y) ** 2)"
      ]
    },
    {
      "cell_type": "code",
      "execution_count": 12,
      "metadata": {
        "id": "EF2ZRWgvFq3X"
      },
      "outputs": [],
      "source": [
        "# Define the Jacobian for the linear and rational approximants\n",
        "def jacobian_linear(params, x, y):\n",
        "    a, b = params\n",
        "    grad_a = 2 * np.sum(x * (linear_approximant(x, a, b) - y))\n",
        "    grad_b = 2 * np.sum(linear_approximant(x, a, b) - y)\n",
        "    return np.array([grad_a, grad_b])"
      ]
    },
    {
      "cell_type": "code",
      "execution_count": 13,
      "metadata": {
        "id": "-9B-zn8IFqV0"
      },
      "outputs": [],
      "source": [
        "def jacobian_rational(params, x, y):\n",
        "    a, b = params\n",
        "    grad_a = 2 * np.sum((rational_approximant(x, a, b) - y) / (x + b))\n",
        "    grad_b = -2 * np.sum(a * (rational_approximant(x, a, b) - y) / ((x + b) ** 2))\n",
        "    return np.array([grad_a, grad_b])"
      ]
    },
    {
      "cell_type": "code",
      "execution_count": 14,
      "metadata": {
        "id": "DmAIzBQ-FqSu"
      },
      "outputs": [],
      "source": [
        "# Initial guesses for a and b\n",
        "initial_guess = [1, 1]\n",
        "\n",
        "# Set optimization options\n",
        "tolerance = 1e-3"
      ]
    },
    {
      "cell_type": "code",
      "source": [
        "# Perform linear optimization using different methods\n",
        "# Gradient Descent (using scipy's minimize with BFGS)\n",
        "linear_result_gd = minimize(objective_function_linear, initial_guess, args=(x_data, y_data), method='BFGS', tol=tolerance)\n",
        "\n",
        "# Newton's Method (using Newton-CG and providing the Jacobian)\n",
        "linear_result_newton = minimize(objective_function_linear, initial_guess, args=(x_data, y_data), method='Newton-CG', jac=jacobian_linear, tol=tolerance)\n",
        "\n",
        "# Levenberg-Marquardt (using least_squares for non-linear least squares)\n",
        "linear_result_lm = least_squares(lambda params: linear_approximant(x_data, *params) - y_data, initial_guess, method='lm', xtol=tolerance)"
      ],
      "metadata": {
        "id": "535RqSejcxID"
      },
      "execution_count": 16,
      "outputs": []
    },
    {
      "cell_type": "code",
      "execution_count": 17,
      "metadata": {
        "colab": {
          "base_uri": "https://localhost:8080/"
        },
        "id": "6vu8vNtcFqDa",
        "outputId": "d5d4faee-8f13-4530-8f21-88c9ec22c587"
      },
      "outputs": [
        {
          "output_type": "stream",
          "name": "stdout",
          "text": [
            "Linear Approximation Results:\n",
            "Gradient Descent: a = 0.3701588535562617, b = 0.957911896477117\n",
            "Newton's Method: a = 0.370158851992353, b = 0.9579118929249537\n",
            "Levenberg-Marquardt: a = 0.3701588507008723, b = 0.9579118933857791\n"
          ]
        }
      ],
      "source": [
        "# Print results for linear approximation\n",
        "print(\"Linear Approximation Results:\")\n",
        "print(f\"Gradient Descent: a = {linear_result_gd.x[0]}, b = {linear_result_gd.x[1]}\")\n",
        "print(f\"Newton's Method: a = {linear_result_newton.x[0]}, b = {linear_result_newton.x[1]}\")\n",
        "print(f\"Levenberg-Marquardt: a = {linear_result_lm.x[0]}, b = {linear_result_lm.x[1]}\")"
      ]
    },
    {
      "cell_type": "code",
      "source": [
        "# Perform rational optimization using different methods\n",
        "# Gradient Descent (using scipy's minimize with BFGS)\n",
        "rational_result_gd = minimize(objective_function_rational, initial_guess, args=(x_data, y_data), method='BFGS', tol=tolerance)\n",
        "\n",
        "# Newton's Method (using Newton-CG and providing the Jacobian)\n",
        "rational_result_newton = minimize(objective_function_rational, initial_guess, args=(x_data, y_data), method='Newton-CG', jac=jacobian_rational, tol=tolerance)\n",
        "\n",
        "# Levenberg-Marquardt (using least_squares for non-linear least squares)\n",
        "rational_result_lm = least_squares(lambda params: rational_approximant(x_data, *params) - y_data, initial_guess, method='lm', xtol=tolerance)"
      ],
      "metadata": {
        "id": "n1y7OS24c9dA"
      },
      "execution_count": 19,
      "outputs": []
    },
    {
      "cell_type": "code",
      "execution_count": 20,
      "metadata": {
        "colab": {
          "base_uri": "https://localhost:8080/"
        },
        "id": "fCGdXxJWFqA5",
        "outputId": "43896ccc-b48c-4bfb-92e5-24fd3fbf5581"
      },
      "outputs": [
        {
          "output_type": "stream",
          "name": "stdout",
          "text": [
            "\n",
            "Rational Approximation Results:\n",
            "Gradient Descent: a = 1668.4209854230207, b = 1450.440777553551\n",
            "Newton's Method: a = 191.18640621509923, b = 166.4157381050147\n",
            "Levenberg-Marquardt: a = 135057339.14980108, b = 117970275.3533012\n"
          ]
        }
      ],
      "source": [
        "# Print results for rational approximation\n",
        "print(\"\\nRational Approximation Results:\")\n",
        "print(f\"Gradient Descent: a = {rational_result_gd.x[0]}, b = {rational_result_gd.x[1]}\")\n",
        "print(f\"Newton's Method: a = {rational_result_newton.x[0]}, b = {rational_result_newton.x[1]}\")\n",
        "print(f\"Levenberg-Marquardt: a = {rational_result_lm.x[0]}, b = {rational_result_lm.x[1]}\")"
      ]
    },
    {
      "cell_type": "code",
      "source": [
        "# Plotting the original data\n",
        "plt.figure(figsize=(8, 5))\n",
        "plt.scatter(x_data, y_data, label=\"Original Data\", color=\"blue\")\n",
        "\n",
        "# Linear approximation (Gradient Descent result)\n",
        "y_linear = linear_approximant(x_data, *linear_result_gd.x)\n",
        "plt.plot(x_data, y_linear, label=\"Linear Approximation\", color=\"green\")\n",
        "\n",
        "# Rational approximation (Gradient Descent result)\n",
        "y_rational = rational_approximant(x_data, *rational_result_gd.x)\n",
        "plt.plot(x_data, y_rational, label=\"Rational Approximation\", color=\"red\")\n",
        "\n",
        "# Final plot adjustments\n",
        "plt.xlabel(\"x\")\n",
        "plt.ylabel(\"y\")\n",
        "plt.title(\"Linear and Rational Approximations\")\n",
        "plt.legend()\n",
        "plt.show()"
      ],
      "metadata": {
        "colab": {
          "base_uri": "https://localhost:8080/",
          "height": 487
        },
        "id": "9k2OwYU5dDUx",
        "outputId": "ac4ddc9e-6e82-4b1b-bb2b-5723cc6b95eb"
      },
      "execution_count": 22,
      "outputs": [
        {
          "output_type": "display_data",
          "data": {
            "text/plain": [
              "<Figure size 800x500 with 1 Axes>"
            ],
            "image/png": "[encoded data removed]"
          },
          "metadata": {}
        }
      ]
    }
  ],
  "metadata": {
    "colab": {
      "provenance": [],
      "include_colab_link": true
    },
    "kernelspec": {
      "display_name": "Python 3",
      "name": "python3"
    },
    "language_info": {
      "name": "python"
    }
  },
  "nbformat": 4,
  "nbformat_minor": 0
}